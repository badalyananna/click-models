{
 "cells": [
  {
   "cell_type": "code",
   "execution_count": 1,
   "id": "9cab77cc",
   "metadata": {},
   "outputs": [],
   "source": [
    "from preprocessing import get_sessions, train_test_split"
   ]
  },
  {
   "cell_type": "code",
   "execution_count": 4,
   "id": "0e7b9928",
   "metadata": {},
   "outputs": [],
   "source": [
    "sessions = get_sessions(\"dataset/Clicklog.txt\", 1000)\n",
    "train_sessions, test_sessions = train_test_split(sessions, 0.75)"
   ]
  },
  {
   "cell_type": "markdown",
   "id": "60701f84",
   "metadata": {},
   "source": [
    "## RCM"
   ]
  },
  {
   "cell_type": "code",
   "execution_count": 3,
   "id": "0dca2163",
   "metadata": {},
   "outputs": [
    {
     "data": {
      "text/plain": [
       "{'p': 0.13553693358162633}"
      ]
     },
     "execution_count": 3,
     "metadata": {},
     "output_type": "execute_result"
    }
   ],
   "source": [
    "from RCM import RCM\n",
    "\n",
    "model_rcm = RCM()\n",
    "model_rcm.train(train_sessions)\n",
    "model_rcm.params"
   ]
  },
  {
   "cell_type": "code",
   "execution_count": 4,
   "id": "d6f81691",
   "metadata": {},
   "outputs": [
    {
     "name": "stdout",
     "output_type": "stream",
     "text": [
      "Log-likelihood on train sessions: -0.39236637016914605\n",
      "Log-likelihood on  test sessions: -0.427409533551712\n",
      "Perplexity on train sessions: 1.5362684301067968\n",
      "Perplexity on  test sessions: 1.7468559058945812\n"
     ]
    }
   ],
   "source": [
    "print(f\"Log-likelihood on train sessions: {model_rcm.log_likelihood(train_sessions)}\")\n",
    "print(f\"Log-likelihood on  test sessions: {model_rcm.log_likelihood(test_sessions)}\")\n",
    "print(f\"Perplexity on train sessions: {model_rcm.perplexity(train_sessions)}\")\n",
    "print(f\"Perplexity on  test sessions: {model_rcm.perplexity(test_sessions)}\")"
   ]
  },
  {
   "cell_type": "markdown",
   "id": "88003c44",
   "metadata": {},
   "source": [
    "# RCTR"
   ]
  },
  {
   "cell_type": "code",
   "execution_count": 5,
   "id": "85630fa8",
   "metadata": {},
   "outputs": [],
   "source": [
    "from RCTR import RCTR\n",
    "\n",
    "model_rctr = RCTR()\n",
    "model_rctr.train(train_sessions)"
   ]
  },
  {
   "cell_type": "code",
   "execution_count": 6,
   "id": "d2c4b26d",
   "metadata": {},
   "outputs": [
    {
     "name": "stdout",
     "output_type": "stream",
     "text": [
      "Log-likelihood on train sessions: -0.33300539314233174\n",
      "Log-likelihood on  test sessions: -0.3064529543107062\n",
      "Perplexity on train sessions: 1.4159888800840228\n",
      "Perplexity on  test sessions: 1.3826843557642696\n"
     ]
    }
   ],
   "source": [
    "print(f\"Log-likelihood on train sessions: {model_rctr.log_likelihood(train_sessions)}\")\n",
    "print(f\"Log-likelihood on  test sessions: {model_rctr.log_likelihood(test_sessions)}\")\n",
    "print(f\"Perplexity on train sessions: {model_rctr.perplexity(train_sessions)}\")\n",
    "print(f\"Perplexity on  test sessions: {model_rctr.perplexity(test_sessions)}\")"
   ]
  },
  {
   "cell_type": "markdown",
   "id": "2a6ebbfa",
   "metadata": {},
   "source": [
    "## Document Click Through Rate"
   ]
  },
  {
   "cell_type": "code",
   "execution_count": 7,
   "id": "29fe9246",
   "metadata": {},
   "outputs": [],
   "source": [
    "from DCTR import DCTR\n",
    "\n",
    "model_dctr = DCTR()\n",
    "model_dctr.train(train_sessions)"
   ]
  },
  {
   "cell_type": "code",
   "execution_count": 8,
   "id": "3ad9fabb",
   "metadata": {},
   "outputs": [
    {
     "name": "stdout",
     "output_type": "stream",
     "text": [
      "Log-likelihood on train sessions: -0.36849815832493416\n",
      "Log-likelihood on  test sessions: -0.333009839313245\n",
      "Perplexity on train sessions: 1.4462174828513679\n",
      "Perplexity on  test sessions: 1.404142363254183\n"
     ]
    }
   ],
   "source": [
    "print(f\"Log-likelihood on train sessions: {model_dctr.log_likelihood(train_sessions)}\")\n",
    "print(f\"Log-likelihood on  test sessions: {model_dctr.log_likelihood(test_sessions)}\")\n",
    "print(f\"Perplexity on train sessions: {model_dctr.perplexity(train_sessions)}\")\n",
    "print(f\"Perplexity on  test sessions: {model_dctr.perplexity(test_sessions)}\")"
   ]
  },
  {
   "cell_type": "markdown",
   "id": "ea19fffc",
   "metadata": {},
   "source": [
    "## Cascade"
   ]
  },
  {
   "cell_type": "code",
   "execution_count": 9,
   "id": "dc17e4c5",
   "metadata": {},
   "outputs": [],
   "source": [
    "from CM import CM\n",
    "model_cm = CM()\n",
    "model_cm.train(train_sessions)"
   ]
  },
  {
   "cell_type": "code",
   "execution_count": 10,
   "id": "33d82667",
   "metadata": {
    "scrolled": true
   },
   "outputs": [
    {
     "name": "stdout",
     "output_type": "stream",
     "text": [
      "Log-likelihood on train sessions: -0.4082949039242248\n",
      "Log-likelihood on  test sessions: -0.418952522662531\n",
      "Perplexity on train sessions: 1.5051293507536878\n",
      "Perplexity on  test sessions: 1.5243004540792449\n"
     ]
    }
   ],
   "source": [
    "print(f\"Log-likelihood on train sessions: {model_cm.log_likelihood(train_sessions)}\")\n",
    "print(f\"Log-likelihood on  test sessions: {model_cm.log_likelihood(test_sessions)}\")\n",
    "\n",
    "print(f\"Perplexity on train sessions: {model_cm.perplexity(train_sessions)}\")\n",
    "print(f\"Perplexity on  test sessions: {model_cm.perplexity(test_sessions)}\")"
   ]
  },
  {
   "cell_type": "markdown",
   "id": "5ab1e3e7",
   "metadata": {},
   "source": [
    "# DCM"
   ]
  },
  {
   "cell_type": "code",
   "execution_count": 11,
   "id": "05caf46f",
   "metadata": {},
   "outputs": [],
   "source": [
    "from DCM import DCM\n",
    "\n",
    "model_dcm = DCM()\n",
    "model_dcm.train(train_sessions)"
   ]
  },
  {
   "cell_type": "code",
   "execution_count": 12,
   "id": "76e267c6",
   "metadata": {
    "scrolled": true
   },
   "outputs": [
    {
     "name": "stdout",
     "output_type": "stream",
     "text": [
      "Log-likelihood on train sessions: -0.27829579568239704\n",
      "Log-likelihood on  test sessions: -0.2954123251161992\n",
      "Perplexity on train sessions: 1.3269453986338073\n",
      "Perplexity on  test sessions: 1.357061454563929\n"
     ]
    }
   ],
   "source": [
    "print(f\"Log-likelihood on train sessions: {model_dcm.log_likelihood(train_sessions)}\")\n",
    "print(f\"Log-likelihood on  test sessions: {model_dcm.log_likelihood(test_sessions)}\")\n",
    "\n",
    "print(f\"Perplexity on train sessions: {model_dcm.perplexity(train_sessions)}\")\n",
    "print(f\"Perplexity on  test sessions: {model_dcm.perplexity(test_sessions)}\")"
   ]
  },
  {
   "cell_type": "markdown",
   "id": "0f61e172",
   "metadata": {},
   "source": [
    "# PBM"
   ]
  },
  {
   "cell_type": "code",
   "execution_count": 13,
   "id": "47b66296",
   "metadata": {},
   "outputs": [],
   "source": [
    "from PBM import PBM\n",
    "\n",
    "model_pbm = PBM()\n",
    "model_pbm.train(train_sessions)"
   ]
  },
  {
   "cell_type": "code",
   "execution_count": 14,
   "id": "54a026f7",
   "metadata": {},
   "outputs": [
    {
     "name": "stdout",
     "output_type": "stream",
     "text": [
      "Log-likelihood on train sessions: -0.27230403636280875\n",
      "Log-likelihood on  test sessions: -0.28066263444051204\n",
      "Perplexity on train sessions: 1.3195494422882388\n",
      "Perplexity on  test sessions: 1.3365798350299172\n"
     ]
    }
   ],
   "source": [
    "print(f\"Log-likelihood on train sessions: {model_pbm.log_likelihood(train_sessions)}\")\n",
    "print(f\"Log-likelihood on  test sessions: {model_pbm.log_likelihood(test_sessions)}\")\n",
    "print(f\"Perplexity on train sessions: {model_pbm.perplexity(train_sessions)}\")\n",
    "print(f\"Perplexity on  test sessions: {model_pbm.perplexity(test_sessions)}\")"
   ]
  },
  {
   "cell_type": "markdown",
   "id": "8ee0eebf",
   "metadata": {},
   "source": [
    "# UBM"
   ]
  },
  {
   "cell_type": "code",
   "execution_count": 15,
   "id": "56ba196c",
   "metadata": {},
   "outputs": [],
   "source": [
    "from UBM import UBM\n",
    "\n",
    "model_ubm = UBM()\n",
    "model_ubm.train(train_sessions)"
   ]
  },
  {
   "cell_type": "code",
   "execution_count": 16,
   "id": "649ee723",
   "metadata": {},
   "outputs": [
    {
     "name": "stdout",
     "output_type": "stream",
     "text": [
      "Log-likelihood on train sessions: -0.23583508090381333\n",
      "Log-likelihood on  test sessions: -0.2622756879276756\n",
      "Perplexity on train sessions: 1.274481475713276\n",
      "Perplexity on  test sessions: 1.314494934348156\n"
     ]
    }
   ],
   "source": [
    "print(f\"Log-likelihood on train sessions: {model_ubm.log_likelihood(train_sessions)}\")\n",
    "print(f\"Log-likelihood on  test sessions: {model_ubm.log_likelihood(test_sessions)}\")\n",
    "print(f\"Perplexity on train sessions: {model_ubm.perplexity(train_sessions)}\")\n",
    "print(f\"Perplexity on  test sessions: {model_ubm.perplexity(test_sessions)}\")"
   ]
  },
  {
   "cell_type": "markdown",
   "id": "f34f86a6",
   "metadata": {},
   "source": [
    "# SDBN"
   ]
  },
  {
   "cell_type": "code",
   "execution_count": 17,
   "id": "33acaff4",
   "metadata": {},
   "outputs": [],
   "source": [
    "from SDBN import SDBN\n",
    "\n",
    "model_sdbn = SDBN()\n",
    "model_sdbn.train(train_sessions)"
   ]
  },
  {
   "cell_type": "code",
   "execution_count": 18,
   "id": "60b57aa5",
   "metadata": {},
   "outputs": [
    {
     "name": "stdout",
     "output_type": "stream",
     "text": [
      "Log-likelihood on train sessions: -0.2928656510415631\n",
      "Log-likelihood on  test sessions: -0.2789687019331627\n",
      "Perplexity on train sessions: 1.3452909436941287\n",
      "Perplexity on  test sessions: 1.3345736188140032\n"
     ]
    }
   ],
   "source": [
    "print(f\"Log-likelihood on train sessions: {model_sdbn.log_likelihood(train_sessions)}\")\n",
    "print(f\"Log-likelihood on  test sessions: {model_sdbn.log_likelihood(test_sessions)}\")\n",
    "\n",
    "print(f\"Perplexity on train sessions: {model_sdbn.perplexity(train_sessions)}\")\n",
    "print(f\"Perplexity on  test sessions: {model_sdbn.perplexity(test_sessions)}\")"
   ]
  }
 ],
 "metadata": {
  "kernelspec": {
   "display_name": "Python 3 (ipykernel)",
   "language": "python",
   "name": "python3"
  },
  "language_info": {
   "codemirror_mode": {
    "name": "ipython",
    "version": 3
   },
   "file_extension": ".py",
   "mimetype": "text/x-python",
   "name": "python",
   "nbconvert_exporter": "python",
   "pygments_lexer": "ipython3",
   "version": "3.8.10"
  }
 },
 "nbformat": 4,
 "nbformat_minor": 5
}
